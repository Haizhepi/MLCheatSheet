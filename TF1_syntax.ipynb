{
  "nbformat": 4,
  "nbformat_minor": 0,
  "metadata": {
    "colab": {
      "name": "TF1_syntax.ipynb",
      "provenance": [],
      "authorship_tag": "ABX9TyPHepsXS09WtyMdVAlTlveA",
      "include_colab_link": true
    },
    "kernelspec": {
      "name": "python3",
      "display_name": "Python 3"
    }
  },
  "cells": [
    {
      "cell_type": "markdown",
      "metadata": {
        "id": "view-in-github",
        "colab_type": "text"
      },
      "source": [
        "<a href=\"https://colab.research.google.com/github/Haizhepi/MLCheatSheet/blob/master/TF1_syntax.ipynb\" target=\"_parent\"><img src=\"https://colab.research.google.com/assets/colab-badge.svg\" alt=\"Open In Colab\"/></a>"
      ]
    },
    {
      "cell_type": "code",
      "metadata": {
        "id": "lsF_GfA-vQPj",
        "outputId": "e177ab4e-46e7-4c6c-bcc8-8dd9c64a9651",
        "colab": {
          "base_uri": "https://localhost:8080/"
        }
      },
      "source": [
        "import tensorflow.compat.v1 as tf\n",
        "tf.disable_v2_behavior()"
      ],
      "execution_count": 2,
      "outputs": [
        {
          "output_type": "stream",
          "text": [
            "WARNING:tensorflow:From /usr/local/lib/python3.6/dist-packages/tensorflow/python/compat/v2_compat.py:96: disable_resource_variables (from tensorflow.python.ops.variable_scope) is deprecated and will be removed in a future version.\n",
            "Instructions for updating:\n",
            "non-resource variables are not supported in the long term\n"
          ],
          "name": "stdout"
        }
      ]
    },
    {
      "cell_type": "code",
      "metadata": {
        "id": "Z0BVUAxZvhoy",
        "outputId": "65d324d1-2e4d-492b-9c48-abb0637078af",
        "colab": {
          "base_uri": "https://localhost:8080/"
        }
      },
      "source": [
        "print(tf.__version__)"
      ],
      "execution_count": 3,
      "outputs": [
        {
          "output_type": "stream",
          "text": [
            "2.3.0\n"
          ],
          "name": "stdout"
        }
      ]
    },
    {
      "cell_type": "code",
      "metadata": {
        "id": "L7HwmjJ-vjmV"
      },
      "source": [
        "hello = tf.constant(\"Hello\")"
      ],
      "execution_count": 4,
      "outputs": []
    },
    {
      "cell_type": "code",
      "metadata": {
        "id": "TkddIDGKvugi"
      },
      "source": [
        "world = tf.constant(\"World\")"
      ],
      "execution_count": 5,
      "outputs": []
    },
    {
      "cell_type": "code",
      "metadata": {
        "id": "yNsQk_XCvwYE",
        "outputId": "ca2dc887-6031-447c-f02a-c88a6ebceacd",
        "colab": {
          "base_uri": "https://localhost:8080/"
        }
      },
      "source": [
        "type(hello)"
      ],
      "execution_count": 6,
      "outputs": [
        {
          "output_type": "execute_result",
          "data": {
            "text/plain": [
              "tensorflow.python.framework.ops.Tensor"
            ]
          },
          "metadata": {
            "tags": []
          },
          "execution_count": 6
        }
      ]
    },
    {
      "cell_type": "code",
      "metadata": {
        "id": "kAz99MNKvxMG"
      },
      "source": [
        "with tf.Session() as sess:\n",
        "  res = sess.run(hello + world)"
      ],
      "execution_count": 7,
      "outputs": []
    },
    {
      "cell_type": "code",
      "metadata": {
        "id": "QxVDzOxTwA1V",
        "outputId": "9190c611-6ae5-4956-a709-e39b7a2f4005",
        "colab": {
          "base_uri": "https://localhost:8080/"
        }
      },
      "source": [
        "print(res)"
      ],
      "execution_count": 8,
      "outputs": [
        {
          "output_type": "stream",
          "text": [
            "b'HelloWorld'\n"
          ],
          "name": "stdout"
        }
      ]
    },
    {
      "cell_type": "code",
      "metadata": {
        "id": "EzeIk5aKwGZ0"
      },
      "source": [
        "a = tf.constant(10)\n",
        "b = tf.constant(20)"
      ],
      "execution_count": 9,
      "outputs": []
    },
    {
      "cell_type": "code",
      "metadata": {
        "id": "1Ve42iIZwikW",
        "outputId": "65dd9330-e158-441e-d515-dde479fea5be",
        "colab": {
          "base_uri": "https://localhost:8080/"
        }
      },
      "source": [
        "type(a)"
      ],
      "execution_count": 10,
      "outputs": [
        {
          "output_type": "execute_result",
          "data": {
            "text/plain": [
              "tensorflow.python.framework.ops.Tensor"
            ]
          },
          "metadata": {
            "tags": []
          },
          "execution_count": 10
        }
      ]
    },
    {
      "cell_type": "code",
      "metadata": {
        "id": "ELajQIVSwjm5",
        "outputId": "52b931ed-bc6d-4a56-d835-e619f11c6ed7",
        "colab": {
          "base_uri": "https://localhost:8080/"
        }
      },
      "source": [
        "a + b"
      ],
      "execution_count": 11,
      "outputs": [
        {
          "output_type": "execute_result",
          "data": {
            "text/plain": [
              "<tf.Tensor 'add_1:0' shape=() dtype=int32>"
            ]
          },
          "metadata": {
            "tags": []
          },
          "execution_count": 11
        }
      ]
    },
    {
      "cell_type": "code",
      "metadata": {
        "id": "pfbf3mZpwlH7",
        "outputId": "71d67215-05a1-4824-9a86-533fc7001bf2",
        "colab": {
          "base_uri": "https://localhost:8080/"
        }
      },
      "source": [
        "a + b"
      ],
      "execution_count": 12,
      "outputs": [
        {
          "output_type": "execute_result",
          "data": {
            "text/plain": [
              "<tf.Tensor 'add_2:0' shape=() dtype=int32>"
            ]
          },
          "metadata": {
            "tags": []
          },
          "execution_count": 12
        }
      ]
    },
    {
      "cell_type": "code",
      "metadata": {
        "id": "DOi82Kwiwnkf"
      },
      "source": [
        "with tf.Session() as sess:\n",
        "  result = sess.run(a + b)"
      ],
      "execution_count": 13,
      "outputs": []
    },
    {
      "cell_type": "code",
      "metadata": {
        "id": "8J4VRxtKwtMP",
        "outputId": "e5033078-e8e1-45f1-abe1-6ee8e3db6ecd",
        "colab": {
          "base_uri": "https://localhost:8080/"
        }
      },
      "source": [
        "result"
      ],
      "execution_count": 14,
      "outputs": [
        {
          "output_type": "execute_result",
          "data": {
            "text/plain": [
              "30"
            ]
          },
          "metadata": {
            "tags": []
          },
          "execution_count": 14
        }
      ]
    },
    {
      "cell_type": "code",
      "metadata": {
        "id": "_kIDaqbvwvuM"
      },
      "source": [
        "const = tf.constant(10)"
      ],
      "execution_count": 15,
      "outputs": []
    },
    {
      "cell_type": "code",
      "metadata": {
        "id": "NLVGryH91oE8"
      },
      "source": [
        "fill_mat = tf.fill((4, 4), 10)"
      ],
      "execution_count": 16,
      "outputs": []
    },
    {
      "cell_type": "code",
      "metadata": {
        "id": "rJyoQMEx1qJT"
      },
      "source": [
        "myzeros = tf.zeros((4, 4))"
      ],
      "execution_count": 17,
      "outputs": []
    },
    {
      "cell_type": "code",
      "metadata": {
        "id": "WQaUD6O1O5S7"
      },
      "source": [
        "myones = tf.ones((4, 4))"
      ],
      "execution_count": 18,
      "outputs": []
    },
    {
      "cell_type": "code",
      "metadata": {
        "id": "JB_EPo7_Qkpr"
      },
      "source": [
        "myrandn = tf.random_normal((4, 4), mean=0, stddev=1.0)"
      ],
      "execution_count": 19,
      "outputs": []
    },
    {
      "cell_type": "code",
      "metadata": {
        "id": "HdGT02uWQpX0"
      },
      "source": [
        "myrandu = tf.random_uniform((4, 4), minval=0, maxval=1)"
      ],
      "execution_count": 20,
      "outputs": []
    },
    {
      "cell_type": "code",
      "metadata": {
        "id": "Gev4arPrQuVG"
      },
      "source": [
        "my_ops = [const, fill_mat, myzeros, myones, myrandn, myrandu]"
      ],
      "execution_count": 21,
      "outputs": []
    },
    {
      "cell_type": "code",
      "metadata": {
        "id": "N14hytnyQ1Em"
      },
      "source": [
        "sess = tf.InteractiveSession()"
      ],
      "execution_count": 22,
      "outputs": []
    },
    {
      "cell_type": "code",
      "metadata": {
        "id": "ut3vNJ8HRA2m",
        "outputId": "0017b761-678b-4754-f847-f4c850783e22",
        "colab": {
          "base_uri": "https://localhost:8080/"
        }
      },
      "source": [
        "for op in my_ops:\n",
        "  print(sess.run(op))"
      ],
      "execution_count": 23,
      "outputs": [
        {
          "output_type": "stream",
          "text": [
            "10\n",
            "[[10 10 10 10]\n",
            " [10 10 10 10]\n",
            " [10 10 10 10]\n",
            " [10 10 10 10]]\n",
            "[[0. 0. 0. 0.]\n",
            " [0. 0. 0. 0.]\n",
            " [0. 0. 0. 0.]\n",
            " [0. 0. 0. 0.]]\n",
            "[[1. 1. 1. 1.]\n",
            " [1. 1. 1. 1.]\n",
            " [1. 1. 1. 1.]\n",
            " [1. 1. 1. 1.]]\n",
            "[[-0.815438   -1.1627268   0.11584654  0.1170062 ]\n",
            " [ 0.7766001   0.5235548  -0.28051755  0.37848285]\n",
            " [-1.0617232   0.18090308 -0.52771306 -0.23477693]\n",
            " [ 0.7842454   1.4322177  -0.87291193  0.1166519 ]]\n",
            "[[0.7121295  0.16991186 0.49617612 0.5642718 ]\n",
            " [0.8245194  0.3466345  0.9592217  0.38939166]\n",
            " [0.83572793 0.9630513  0.11330712 0.9256017 ]\n",
            " [0.28695154 0.99579966 0.16573167 0.51427996]]\n"
          ],
          "name": "stdout"
        }
      ]
    },
    {
      "cell_type": "code",
      "metadata": {
        "id": "HEmAnajDRE8a"
      },
      "source": [
        "a = tf.constant([ [1, 2], [3, 4] ])"
      ],
      "execution_count": 25,
      "outputs": []
    },
    {
      "cell_type": "code",
      "metadata": {
        "id": "qP6nEM3YRbt_",
        "outputId": "0c619d10-9b2f-46ea-d861-a504a303cfa2",
        "colab": {
          "base_uri": "https://localhost:8080/"
        }
      },
      "source": [
        "a.get_shape()"
      ],
      "execution_count": 26,
      "outputs": [
        {
          "output_type": "execute_result",
          "data": {
            "text/plain": [
              "TensorShape([Dimension(2), Dimension(2)])"
            ]
          },
          "metadata": {
            "tags": []
          },
          "execution_count": 26
        }
      ]
    },
    {
      "cell_type": "code",
      "metadata": {
        "id": "5RxBbBjtRg7t"
      },
      "source": [
        "b = tf.constant([[10], [100]])"
      ],
      "execution_count": 27,
      "outputs": []
    },
    {
      "cell_type": "code",
      "metadata": {
        "id": "wawzRB7JTA7K"
      },
      "source": [
        "result = tf.matmul(a, b)"
      ],
      "execution_count": 29,
      "outputs": []
    },
    {
      "cell_type": "code",
      "metadata": {
        "id": "3OVvEKN_TEZq",
        "outputId": "10595516-5374-46b1-a5d3-8fabdb214991",
        "colab": {
          "base_uri": "https://localhost:8080/"
        }
      },
      "source": [
        "sess.run(result)"
      ],
      "execution_count": 30,
      "outputs": [
        {
          "output_type": "execute_result",
          "data": {
            "text/plain": [
              "array([[210],\n",
              "       [430]], dtype=int32)"
            ]
          },
          "metadata": {
            "tags": []
          },
          "execution_count": 30
        }
      ]
    },
    {
      "cell_type": "markdown",
      "metadata": {
        "id": "TX-4fUnqTnIG"
      },
      "source": [
        "## **TF Graphs**"
      ]
    },
    {
      "cell_type": "code",
      "metadata": {
        "id": "KdIzSY4JTspX"
      },
      "source": [
        "n1 = tf.constant(1)\n",
        "n2 = tf.constant(2)"
      ],
      "execution_count": 31,
      "outputs": []
    },
    {
      "cell_type": "code",
      "metadata": {
        "id": "pfEfX8JYTwzX"
      },
      "source": [
        "n3 = n1 + n2"
      ],
      "execution_count": 32,
      "outputs": []
    },
    {
      "cell_type": "code",
      "metadata": {
        "id": "5Y6Ftwe2Txgm"
      },
      "source": [
        "with tf.Session() as sess:\n",
        "  result = sess.run(n3)"
      ],
      "execution_count": 33,
      "outputs": []
    },
    {
      "cell_type": "code",
      "metadata": {
        "id": "SG8LQP3xT008",
        "outputId": "f5a7d01a-39c3-456d-92af-f02e6414a25f",
        "colab": {
          "base_uri": "https://localhost:8080/"
        }
      },
      "source": [
        "print(result)"
      ],
      "execution_count": 34,
      "outputs": [
        {
          "output_type": "stream",
          "text": [
            "3\n"
          ],
          "name": "stdout"
        }
      ]
    },
    {
      "cell_type": "code",
      "metadata": {
        "id": "tX3TqkTpT15Y",
        "outputId": "4660e2fc-bdd0-4c8d-d587-46c23708e886",
        "colab": {
          "base_uri": "https://localhost:8080/"
        }
      },
      "source": [
        "print(tf.get_default_graph())"
      ],
      "execution_count": 35,
      "outputs": [
        {
          "output_type": "stream",
          "text": [
            "<tensorflow.python.framework.ops.Graph object at 0x7f66e013f4e0>\n"
          ],
          "name": "stdout"
        }
      ]
    },
    {
      "cell_type": "code",
      "metadata": {
        "id": "79-8tgiBT_z2"
      },
      "source": [
        "g = tf.Graph()"
      ],
      "execution_count": 36,
      "outputs": []
    },
    {
      "cell_type": "code",
      "metadata": {
        "id": "hwRUlUTdUEhB",
        "outputId": "6c23cf94-b831-4893-e346-bdb9aa31d3f6",
        "colab": {
          "base_uri": "https://localhost:8080/"
        }
      },
      "source": [
        "print(g)"
      ],
      "execution_count": 37,
      "outputs": [
        {
          "output_type": "stream",
          "text": [
            "<tensorflow.python.framework.ops.Graph object at 0x7f66a5b3a828>\n"
          ],
          "name": "stdout"
        }
      ]
    },
    {
      "cell_type": "code",
      "metadata": {
        "id": "5EFm89LVUFA4"
      },
      "source": [
        "graph_one = tf.get_default_graph()"
      ],
      "execution_count": 38,
      "outputs": []
    },
    {
      "cell_type": "code",
      "metadata": {
        "id": "EUh_sTZ7ULl1",
        "outputId": "cd7cbde1-3953-4bab-ae98-a442f5315813",
        "colab": {
          "base_uri": "https://localhost:8080/"
        }
      },
      "source": [
        "graph_one"
      ],
      "execution_count": 39,
      "outputs": [
        {
          "output_type": "execute_result",
          "data": {
            "text/plain": [
              "<tensorflow.python.framework.ops.Graph at 0x7f66e013f4e0>"
            ]
          },
          "metadata": {
            "tags": []
          },
          "execution_count": 39
        }
      ]
    },
    {
      "cell_type": "code",
      "metadata": {
        "id": "qcG2esaSUOSy"
      },
      "source": [
        "graph_two = tf.Graph()"
      ],
      "execution_count": 40,
      "outputs": []
    },
    {
      "cell_type": "code",
      "metadata": {
        "id": "4H6hLjAXURp8",
        "outputId": "566a3ca8-4b7d-4780-b677-f624ab785653",
        "colab": {
          "base_uri": "https://localhost:8080/"
        }
      },
      "source": [
        "graph_two"
      ],
      "execution_count": 41,
      "outputs": [
        {
          "output_type": "execute_result",
          "data": {
            "text/plain": [
              "<tensorflow.python.framework.ops.Graph at 0x7f669e432b38>"
            ]
          },
          "metadata": {
            "tags": []
          },
          "execution_count": 41
        }
      ]
    },
    {
      "cell_type": "code",
      "metadata": {
        "id": "wMQtzX4LUSiM",
        "outputId": "5a0f6fa9-cdb6-4950-b9af-476153770b91",
        "colab": {
          "base_uri": "https://localhost:8080/"
        }
      },
      "source": [
        "with graph_two.as_default():\n",
        "  print(graph_two is tf.get_default_graph())"
      ],
      "execution_count": 42,
      "outputs": [
        {
          "output_type": "stream",
          "text": [
            "True\n"
          ],
          "name": "stdout"
        }
      ]
    },
    {
      "cell_type": "code",
      "metadata": {
        "id": "OETgwnnCUbho",
        "outputId": "1eecb829-5bbf-45a9-eb98-b90cdae0e3f5",
        "colab": {
          "base_uri": "https://localhost:8080/"
        }
      },
      "source": [
        "print(graph_two is tf.get_default_graph())"
      ],
      "execution_count": 43,
      "outputs": [
        {
          "output_type": "stream",
          "text": [
            "False\n"
          ],
          "name": "stdout"
        }
      ]
    },
    {
      "cell_type": "markdown",
      "metadata": {
        "id": "fCZ4yfqdWh5C"
      },
      "source": [
        "## **Var & Placeholders**"
      ]
    },
    {
      "cell_type": "code",
      "metadata": {
        "id": "7u_MMPeOWo3y",
        "outputId": "0036a35b-1ec5-40e0-83d6-112c06448437",
        "colab": {
          "base_uri": "https://localhost:8080/"
        }
      },
      "source": [
        "sess = tf.InteractiveSession()"
      ],
      "execution_count": 44,
      "outputs": [
        {
          "output_type": "stream",
          "text": [
            "/usr/local/lib/python3.6/dist-packages/tensorflow/python/client/session.py:1751: UserWarning: An interactive session is already active. This can cause out-of-memory errors in some cases. You must explicitly call `InteractiveSession.close()` to release resources held by the other session(s).\n",
            "  warnings.warn('An interactive session is already active. This can '\n"
          ],
          "name": "stderr"
        }
      ]
    },
    {
      "cell_type": "code",
      "metadata": {
        "id": "sbYEErdUXAGb"
      },
      "source": [
        "my_tensor = tf.random_uniform((4, 4), 0, 1)"
      ],
      "execution_count": 46,
      "outputs": []
    },
    {
      "cell_type": "code",
      "metadata": {
        "id": "aVZRE_7lXHgV",
        "outputId": "ae47bf28-d548-45e7-da56-923085087b35",
        "colab": {
          "base_uri": "https://localhost:8080/"
        }
      },
      "source": [
        "my_tensor"
      ],
      "execution_count": 47,
      "outputs": [
        {
          "output_type": "execute_result",
          "data": {
            "text/plain": [
              "<tf.Tensor 'random_uniform_2/RandomUniform:0' shape=(4, 4) dtype=float32>"
            ]
          },
          "metadata": {
            "tags": []
          },
          "execution_count": 47
        }
      ]
    },
    {
      "cell_type": "code",
      "metadata": {
        "id": "0Mbs966UXKVm"
      },
      "source": [
        "my_var = tf.Variable(initial_value=my_tensor)"
      ],
      "execution_count": 48,
      "outputs": []
    },
    {
      "cell_type": "code",
      "metadata": {
        "id": "zU1OWuSwXQZJ",
        "outputId": "7ca35100-ecdf-4ed2-db15-c217701c5de2",
        "colab": {
          "base_uri": "https://localhost:8080/"
        }
      },
      "source": [
        "print(my_var)"
      ],
      "execution_count": 49,
      "outputs": [
        {
          "output_type": "stream",
          "text": [
            "<tf.Variable 'Variable:0' shape=(4, 4) dtype=float32_ref>\n"
          ],
          "name": "stdout"
        }
      ]
    },
    {
      "cell_type": "code",
      "metadata": {
        "id": "nrUzH0L0XS7V"
      },
      "source": [
        "# sess.run(my_var)"
      ],
      "execution_count": null,
      "outputs": []
    },
    {
      "cell_type": "code",
      "metadata": {
        "id": "CV8PGHQVXVN3"
      },
      "source": [
        "init = tf.global_variables_initializer()"
      ],
      "execution_count": 51,
      "outputs": []
    },
    {
      "cell_type": "code",
      "metadata": {
        "id": "IdHiaOTFXb_5"
      },
      "source": [
        "sess.run(init)"
      ],
      "execution_count": 52,
      "outputs": []
    },
    {
      "cell_type": "code",
      "metadata": {
        "id": "xtLrnoIHXe5w",
        "outputId": "b7888ee7-d381-42c6-953b-2384fab3bade",
        "colab": {
          "base_uri": "https://localhost:8080/"
        }
      },
      "source": [
        "sess.run(my_var)"
      ],
      "execution_count": 53,
      "outputs": [
        {
          "output_type": "execute_result",
          "data": {
            "text/plain": [
              "array([[0.45872784, 0.66316783, 0.75225365, 0.8264054 ],\n",
              "       [0.7720554 , 0.633765  , 0.06855547, 0.10530591],\n",
              "       [0.66179574, 0.6743854 , 0.10654712, 0.01934648],\n",
              "       [0.01920533, 0.19167042, 0.58581495, 0.50748825]], dtype=float32)"
            ]
          },
          "metadata": {
            "tags": []
          },
          "execution_count": 53
        }
      ]
    },
    {
      "cell_type": "code",
      "metadata": {
        "id": "cjgmOMzFXh4E"
      },
      "source": [
        "ph = tf.placeholder(tf.float32)"
      ],
      "execution_count": 54,
      "outputs": []
    },
    {
      "cell_type": "code",
      "metadata": {
        "id": "MbyO2ibHX4fE"
      },
      "source": [
        ""
      ],
      "execution_count": null,
      "outputs": []
    }
  ]
}