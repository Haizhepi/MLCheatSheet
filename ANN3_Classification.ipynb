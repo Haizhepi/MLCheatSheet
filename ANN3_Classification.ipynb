{
  "nbformat": 4,
  "nbformat_minor": 0,
  "metadata": {
    "colab": {
      "name": "ANN3_Classification.ipynb",
      "provenance": [],
      "mount_file_id": "1eCvp1moEmMzFG7bUqdYrp4kM_XlYCTKL",
      "authorship_tag": "ABX9TyNzcrAwpf4wHL+ZMjWjXxgW",
      "include_colab_link": true
    },
    "kernelspec": {
      "name": "python3",
      "display_name": "Python 3"
    }
  },
  "cells": [
    {
      "cell_type": "markdown",
      "metadata": {
        "id": "view-in-github",
        "colab_type": "text"
      },
      "source": [
        "<a href=\"https://colab.research.google.com/github/Haizhepi/MLCheatSheet/blob/master/ANN3_Classification.ipynb\" target=\"_parent\"><img src=\"https://colab.research.google.com/assets/colab-badge.svg\" alt=\"Open In Colab\"/></a>"
      ]
    },
    {
      "cell_type": "code",
      "metadata": {
        "id": "TaalRn-cDouQ"
      },
      "source": [
        "import pandas as pd\n",
        "import numpy as np\n",
        "import matplotlib.pyplot as plt\n",
        "import seaborn as sns"
      ],
      "execution_count": 1,
      "outputs": []
    },
    {
      "cell_type": "code",
      "metadata": {
        "id": "5xWcHOS6FaYc"
      },
      "source": [
        "df = pd.read_csv('drive/My Drive/DATA/cancer_classification.csv')"
      ],
      "execution_count": 2,
      "outputs": []
    },
    {
      "cell_type": "code",
      "metadata": {
        "id": "cf7-1XjSF4Wv",
        "outputId": "50bc2a90-7ef4-4023-f365-78df69c7257f",
        "colab": {
          "base_uri": "https://localhost:8080/",
          "height": 663
        }
      },
      "source": [
        "df.info()"
      ],
      "execution_count": 3,
      "outputs": [
        {
          "output_type": "stream",
          "text": [
            "<class 'pandas.core.frame.DataFrame'>\n",
            "RangeIndex: 569 entries, 0 to 568\n",
            "Data columns (total 31 columns):\n",
            " #   Column                   Non-Null Count  Dtype  \n",
            "---  ------                   --------------  -----  \n",
            " 0   mean radius              569 non-null    float64\n",
            " 1   mean texture             569 non-null    float64\n",
            " 2   mean perimeter           569 non-null    float64\n",
            " 3   mean area                569 non-null    float64\n",
            " 4   mean smoothness          569 non-null    float64\n",
            " 5   mean compactness         569 non-null    float64\n",
            " 6   mean concavity           569 non-null    float64\n",
            " 7   mean concave points      569 non-null    float64\n",
            " 8   mean symmetry            569 non-null    float64\n",
            " 9   mean fractal dimension   569 non-null    float64\n",
            " 10  radius error             569 non-null    float64\n",
            " 11  texture error            569 non-null    float64\n",
            " 12  perimeter error          569 non-null    float64\n",
            " 13  area error               569 non-null    float64\n",
            " 14  smoothness error         569 non-null    float64\n",
            " 15  compactness error        569 non-null    float64\n",
            " 16  concavity error          569 non-null    float64\n",
            " 17  concave points error     569 non-null    float64\n",
            " 18  symmetry error           569 non-null    float64\n",
            " 19  fractal dimension error  569 non-null    float64\n",
            " 20  worst radius             569 non-null    float64\n",
            " 21  worst texture            569 non-null    float64\n",
            " 22  worst perimeter          569 non-null    float64\n",
            " 23  worst area               569 non-null    float64\n",
            " 24  worst smoothness         569 non-null    float64\n",
            " 25  worst compactness        569 non-null    float64\n",
            " 26  worst concavity          569 non-null    float64\n",
            " 27  worst concave points     569 non-null    float64\n",
            " 28  worst symmetry           569 non-null    float64\n",
            " 29  worst fractal dimension  569 non-null    float64\n",
            " 30  benign_0__mal_1          569 non-null    int64  \n",
            "dtypes: float64(30), int64(1)\n",
            "memory usage: 137.9 KB\n"
          ],
          "name": "stdout"
        }
      ]
    },
    {
      "cell_type": "code",
      "metadata": {
        "id": "siW_n6oLF7xA",
        "outputId": "c27a9c5f-fe9b-4f81-d836-4862e1b99e49",
        "colab": {
          "base_uri": "https://localhost:8080/",
          "height": 1000
        }
      },
      "source": [
        "df.describe().transpose()"
      ],
      "execution_count": 4,
      "outputs": [
        {
          "output_type": "execute_result",
          "data": {
            "text/html": [
              "<div>\n",
              "<style scoped>\n",
              "    .dataframe tbody tr th:only-of-type {\n",
              "        vertical-align: middle;\n",
              "    }\n",
              "\n",
              "    .dataframe tbody tr th {\n",
              "        vertical-align: top;\n",
              "    }\n",
              "\n",
              "    .dataframe thead th {\n",
              "        text-align: right;\n",
              "    }\n",
              "</style>\n",
              "<table border=\"1\" class=\"dataframe\">\n",
              "  <thead>\n",
              "    <tr style=\"text-align: right;\">\n",
              "      <th></th>\n",
              "      <th>count</th>\n",
              "      <th>mean</th>\n",
              "      <th>std</th>\n",
              "      <th>min</th>\n",
              "      <th>25%</th>\n",
              "      <th>50%</th>\n",
              "      <th>75%</th>\n",
              "      <th>max</th>\n",
              "    </tr>\n",
              "  </thead>\n",
              "  <tbody>\n",
              "    <tr>\n",
              "      <th>mean radius</th>\n",
              "      <td>569.0</td>\n",
              "      <td>14.127292</td>\n",
              "      <td>3.524049</td>\n",
              "      <td>6.981000</td>\n",
              "      <td>11.700000</td>\n",
              "      <td>13.370000</td>\n",
              "      <td>15.780000</td>\n",
              "      <td>28.11000</td>\n",
              "    </tr>\n",
              "    <tr>\n",
              "      <th>mean texture</th>\n",
              "      <td>569.0</td>\n",
              "      <td>19.289649</td>\n",
              "      <td>4.301036</td>\n",
              "      <td>9.710000</td>\n",
              "      <td>16.170000</td>\n",
              "      <td>18.840000</td>\n",
              "      <td>21.800000</td>\n",
              "      <td>39.28000</td>\n",
              "    </tr>\n",
              "    <tr>\n",
              "      <th>mean perimeter</th>\n",
              "      <td>569.0</td>\n",
              "      <td>91.969033</td>\n",
              "      <td>24.298981</td>\n",
              "      <td>43.790000</td>\n",
              "      <td>75.170000</td>\n",
              "      <td>86.240000</td>\n",
              "      <td>104.100000</td>\n",
              "      <td>188.50000</td>\n",
              "    </tr>\n",
              "    <tr>\n",
              "      <th>mean area</th>\n",
              "      <td>569.0</td>\n",
              "      <td>654.889104</td>\n",
              "      <td>351.914129</td>\n",
              "      <td>143.500000</td>\n",
              "      <td>420.300000</td>\n",
              "      <td>551.100000</td>\n",
              "      <td>782.700000</td>\n",
              "      <td>2501.00000</td>\n",
              "    </tr>\n",
              "    <tr>\n",
              "      <th>mean smoothness</th>\n",
              "      <td>569.0</td>\n",
              "      <td>0.096360</td>\n",
              "      <td>0.014064</td>\n",
              "      <td>0.052630</td>\n",
              "      <td>0.086370</td>\n",
              "      <td>0.095870</td>\n",
              "      <td>0.105300</td>\n",
              "      <td>0.16340</td>\n",
              "    </tr>\n",
              "    <tr>\n",
              "      <th>mean compactness</th>\n",
              "      <td>569.0</td>\n",
              "      <td>0.104341</td>\n",
              "      <td>0.052813</td>\n",
              "      <td>0.019380</td>\n",
              "      <td>0.064920</td>\n",
              "      <td>0.092630</td>\n",
              "      <td>0.130400</td>\n",
              "      <td>0.34540</td>\n",
              "    </tr>\n",
              "    <tr>\n",
              "      <th>mean concavity</th>\n",
              "      <td>569.0</td>\n",
              "      <td>0.088799</td>\n",
              "      <td>0.079720</td>\n",
              "      <td>0.000000</td>\n",
              "      <td>0.029560</td>\n",
              "      <td>0.061540</td>\n",
              "      <td>0.130700</td>\n",
              "      <td>0.42680</td>\n",
              "    </tr>\n",
              "    <tr>\n",
              "      <th>mean concave points</th>\n",
              "      <td>569.0</td>\n",
              "      <td>0.048919</td>\n",
              "      <td>0.038803</td>\n",
              "      <td>0.000000</td>\n",
              "      <td>0.020310</td>\n",
              "      <td>0.033500</td>\n",
              "      <td>0.074000</td>\n",
              "      <td>0.20120</td>\n",
              "    </tr>\n",
              "    <tr>\n",
              "      <th>mean symmetry</th>\n",
              "      <td>569.0</td>\n",
              "      <td>0.181162</td>\n",
              "      <td>0.027414</td>\n",
              "      <td>0.106000</td>\n",
              "      <td>0.161900</td>\n",
              "      <td>0.179200</td>\n",
              "      <td>0.195700</td>\n",
              "      <td>0.30400</td>\n",
              "    </tr>\n",
              "    <tr>\n",
              "      <th>mean fractal dimension</th>\n",
              "      <td>569.0</td>\n",
              "      <td>0.062798</td>\n",
              "      <td>0.007060</td>\n",
              "      <td>0.049960</td>\n",
              "      <td>0.057700</td>\n",
              "      <td>0.061540</td>\n",
              "      <td>0.066120</td>\n",
              "      <td>0.09744</td>\n",
              "    </tr>\n",
              "    <tr>\n",
              "      <th>radius error</th>\n",
              "      <td>569.0</td>\n",
              "      <td>0.405172</td>\n",
              "      <td>0.277313</td>\n",
              "      <td>0.111500</td>\n",
              "      <td>0.232400</td>\n",
              "      <td>0.324200</td>\n",
              "      <td>0.478900</td>\n",
              "      <td>2.87300</td>\n",
              "    </tr>\n",
              "    <tr>\n",
              "      <th>texture error</th>\n",
              "      <td>569.0</td>\n",
              "      <td>1.216853</td>\n",
              "      <td>0.551648</td>\n",
              "      <td>0.360200</td>\n",
              "      <td>0.833900</td>\n",
              "      <td>1.108000</td>\n",
              "      <td>1.474000</td>\n",
              "      <td>4.88500</td>\n",
              "    </tr>\n",
              "    <tr>\n",
              "      <th>perimeter error</th>\n",
              "      <td>569.0</td>\n",
              "      <td>2.866059</td>\n",
              "      <td>2.021855</td>\n",
              "      <td>0.757000</td>\n",
              "      <td>1.606000</td>\n",
              "      <td>2.287000</td>\n",
              "      <td>3.357000</td>\n",
              "      <td>21.98000</td>\n",
              "    </tr>\n",
              "    <tr>\n",
              "      <th>area error</th>\n",
              "      <td>569.0</td>\n",
              "      <td>40.337079</td>\n",
              "      <td>45.491006</td>\n",
              "      <td>6.802000</td>\n",
              "      <td>17.850000</td>\n",
              "      <td>24.530000</td>\n",
              "      <td>45.190000</td>\n",
              "      <td>542.20000</td>\n",
              "    </tr>\n",
              "    <tr>\n",
              "      <th>smoothness error</th>\n",
              "      <td>569.0</td>\n",
              "      <td>0.007041</td>\n",
              "      <td>0.003003</td>\n",
              "      <td>0.001713</td>\n",
              "      <td>0.005169</td>\n",
              "      <td>0.006380</td>\n",
              "      <td>0.008146</td>\n",
              "      <td>0.03113</td>\n",
              "    </tr>\n",
              "    <tr>\n",
              "      <th>compactness error</th>\n",
              "      <td>569.0</td>\n",
              "      <td>0.025478</td>\n",
              "      <td>0.017908</td>\n",
              "      <td>0.002252</td>\n",
              "      <td>0.013080</td>\n",
              "      <td>0.020450</td>\n",
              "      <td>0.032450</td>\n",
              "      <td>0.13540</td>\n",
              "    </tr>\n",
              "    <tr>\n",
              "      <th>concavity error</th>\n",
              "      <td>569.0</td>\n",
              "      <td>0.031894</td>\n",
              "      <td>0.030186</td>\n",
              "      <td>0.000000</td>\n",
              "      <td>0.015090</td>\n",
              "      <td>0.025890</td>\n",
              "      <td>0.042050</td>\n",
              "      <td>0.39600</td>\n",
              "    </tr>\n",
              "    <tr>\n",
              "      <th>concave points error</th>\n",
              "      <td>569.0</td>\n",
              "      <td>0.011796</td>\n",
              "      <td>0.006170</td>\n",
              "      <td>0.000000</td>\n",
              "      <td>0.007638</td>\n",
              "      <td>0.010930</td>\n",
              "      <td>0.014710</td>\n",
              "      <td>0.05279</td>\n",
              "    </tr>\n",
              "    <tr>\n",
              "      <th>symmetry error</th>\n",
              "      <td>569.0</td>\n",
              "      <td>0.020542</td>\n",
              "      <td>0.008266</td>\n",
              "      <td>0.007882</td>\n",
              "      <td>0.015160</td>\n",
              "      <td>0.018730</td>\n",
              "      <td>0.023480</td>\n",
              "      <td>0.07895</td>\n",
              "    </tr>\n",
              "    <tr>\n",
              "      <th>fractal dimension error</th>\n",
              "      <td>569.0</td>\n",
              "      <td>0.003795</td>\n",
              "      <td>0.002646</td>\n",
              "      <td>0.000895</td>\n",
              "      <td>0.002248</td>\n",
              "      <td>0.003187</td>\n",
              "      <td>0.004558</td>\n",
              "      <td>0.02984</td>\n",
              "    </tr>\n",
              "    <tr>\n",
              "      <th>worst radius</th>\n",
              "      <td>569.0</td>\n",
              "      <td>16.269190</td>\n",
              "      <td>4.833242</td>\n",
              "      <td>7.930000</td>\n",
              "      <td>13.010000</td>\n",
              "      <td>14.970000</td>\n",
              "      <td>18.790000</td>\n",
              "      <td>36.04000</td>\n",
              "    </tr>\n",
              "    <tr>\n",
              "      <th>worst texture</th>\n",
              "      <td>569.0</td>\n",
              "      <td>25.677223</td>\n",
              "      <td>6.146258</td>\n",
              "      <td>12.020000</td>\n",
              "      <td>21.080000</td>\n",
              "      <td>25.410000</td>\n",
              "      <td>29.720000</td>\n",
              "      <td>49.54000</td>\n",
              "    </tr>\n",
              "    <tr>\n",
              "      <th>worst perimeter</th>\n",
              "      <td>569.0</td>\n",
              "      <td>107.261213</td>\n",
              "      <td>33.602542</td>\n",
              "      <td>50.410000</td>\n",
              "      <td>84.110000</td>\n",
              "      <td>97.660000</td>\n",
              "      <td>125.400000</td>\n",
              "      <td>251.20000</td>\n",
              "    </tr>\n",
              "    <tr>\n",
              "      <th>worst area</th>\n",
              "      <td>569.0</td>\n",
              "      <td>880.583128</td>\n",
              "      <td>569.356993</td>\n",
              "      <td>185.200000</td>\n",
              "      <td>515.300000</td>\n",
              "      <td>686.500000</td>\n",
              "      <td>1084.000000</td>\n",
              "      <td>4254.00000</td>\n",
              "    </tr>\n",
              "    <tr>\n",
              "      <th>worst smoothness</th>\n",
              "      <td>569.0</td>\n",
              "      <td>0.132369</td>\n",
              "      <td>0.022832</td>\n",
              "      <td>0.071170</td>\n",
              "      <td>0.116600</td>\n",
              "      <td>0.131300</td>\n",
              "      <td>0.146000</td>\n",
              "      <td>0.22260</td>\n",
              "    </tr>\n",
              "    <tr>\n",
              "      <th>worst compactness</th>\n",
              "      <td>569.0</td>\n",
              "      <td>0.254265</td>\n",
              "      <td>0.157336</td>\n",
              "      <td>0.027290</td>\n",
              "      <td>0.147200</td>\n",
              "      <td>0.211900</td>\n",
              "      <td>0.339100</td>\n",
              "      <td>1.05800</td>\n",
              "    </tr>\n",
              "    <tr>\n",
              "      <th>worst concavity</th>\n",
              "      <td>569.0</td>\n",
              "      <td>0.272188</td>\n",
              "      <td>0.208624</td>\n",
              "      <td>0.000000</td>\n",
              "      <td>0.114500</td>\n",
              "      <td>0.226700</td>\n",
              "      <td>0.382900</td>\n",
              "      <td>1.25200</td>\n",
              "    </tr>\n",
              "    <tr>\n",
              "      <th>worst concave points</th>\n",
              "      <td>569.0</td>\n",
              "      <td>0.114606</td>\n",
              "      <td>0.065732</td>\n",
              "      <td>0.000000</td>\n",
              "      <td>0.064930</td>\n",
              "      <td>0.099930</td>\n",
              "      <td>0.161400</td>\n",
              "      <td>0.29100</td>\n",
              "    </tr>\n",
              "    <tr>\n",
              "      <th>worst symmetry</th>\n",
              "      <td>569.0</td>\n",
              "      <td>0.290076</td>\n",
              "      <td>0.061867</td>\n",
              "      <td>0.156500</td>\n",
              "      <td>0.250400</td>\n",
              "      <td>0.282200</td>\n",
              "      <td>0.317900</td>\n",
              "      <td>0.66380</td>\n",
              "    </tr>\n",
              "    <tr>\n",
              "      <th>worst fractal dimension</th>\n",
              "      <td>569.0</td>\n",
              "      <td>0.083946</td>\n",
              "      <td>0.018061</td>\n",
              "      <td>0.055040</td>\n",
              "      <td>0.071460</td>\n",
              "      <td>0.080040</td>\n",
              "      <td>0.092080</td>\n",
              "      <td>0.20750</td>\n",
              "    </tr>\n",
              "    <tr>\n",
              "      <th>benign_0__mal_1</th>\n",
              "      <td>569.0</td>\n",
              "      <td>0.627417</td>\n",
              "      <td>0.483918</td>\n",
              "      <td>0.000000</td>\n",
              "      <td>0.000000</td>\n",
              "      <td>1.000000</td>\n",
              "      <td>1.000000</td>\n",
              "      <td>1.00000</td>\n",
              "    </tr>\n",
              "  </tbody>\n",
              "</table>\n",
              "</div>"
            ],
            "text/plain": [
              "                         count        mean  ...          75%         max\n",
              "mean radius              569.0   14.127292  ...    15.780000    28.11000\n",
              "mean texture             569.0   19.289649  ...    21.800000    39.28000\n",
              "mean perimeter           569.0   91.969033  ...   104.100000   188.50000\n",
              "mean area                569.0  654.889104  ...   782.700000  2501.00000\n",
              "mean smoothness          569.0    0.096360  ...     0.105300     0.16340\n",
              "mean compactness         569.0    0.104341  ...     0.130400     0.34540\n",
              "mean concavity           569.0    0.088799  ...     0.130700     0.42680\n",
              "mean concave points      569.0    0.048919  ...     0.074000     0.20120\n",
              "mean symmetry            569.0    0.181162  ...     0.195700     0.30400\n",
              "mean fractal dimension   569.0    0.062798  ...     0.066120     0.09744\n",
              "radius error             569.0    0.405172  ...     0.478900     2.87300\n",
              "texture error            569.0    1.216853  ...     1.474000     4.88500\n",
              "perimeter error          569.0    2.866059  ...     3.357000    21.98000\n",
              "area error               569.0   40.337079  ...    45.190000   542.20000\n",
              "smoothness error         569.0    0.007041  ...     0.008146     0.03113\n",
              "compactness error        569.0    0.025478  ...     0.032450     0.13540\n",
              "concavity error          569.0    0.031894  ...     0.042050     0.39600\n",
              "concave points error     569.0    0.011796  ...     0.014710     0.05279\n",
              "symmetry error           569.0    0.020542  ...     0.023480     0.07895\n",
              "fractal dimension error  569.0    0.003795  ...     0.004558     0.02984\n",
              "worst radius             569.0   16.269190  ...    18.790000    36.04000\n",
              "worst texture            569.0   25.677223  ...    29.720000    49.54000\n",
              "worst perimeter          569.0  107.261213  ...   125.400000   251.20000\n",
              "worst area               569.0  880.583128  ...  1084.000000  4254.00000\n",
              "worst smoothness         569.0    0.132369  ...     0.146000     0.22260\n",
              "worst compactness        569.0    0.254265  ...     0.339100     1.05800\n",
              "worst concavity          569.0    0.272188  ...     0.382900     1.25200\n",
              "worst concave points     569.0    0.114606  ...     0.161400     0.29100\n",
              "worst symmetry           569.0    0.290076  ...     0.317900     0.66380\n",
              "worst fractal dimension  569.0    0.083946  ...     0.092080     0.20750\n",
              "benign_0__mal_1          569.0    0.627417  ...     1.000000     1.00000\n",
              "\n",
              "[31 rows x 8 columns]"
            ]
          },
          "metadata": {
            "tags": []
          },
          "execution_count": 4
        }
      ]
    },
    {
      "cell_type": "code",
      "metadata": {
        "id": "4FlOPxPpF_Cf",
        "outputId": "399273f7-70f8-4e74-edad-450e8aaf0f28",
        "colab": {
          "base_uri": "https://localhost:8080/",
          "height": 297
        }
      },
      "source": [
        "sns.countplot(x='benign_0__mal_1', data=df)"
      ],
      "execution_count": 6,
      "outputs": [
        {
          "output_type": "execute_result",
          "data": {
            "text/plain": [
              "<matplotlib.axes._subplots.AxesSubplot at 0x7ff246b15f28>"
            ]
          },
          "metadata": {
            "tags": []
          },
          "execution_count": 6
        },
        {
          "output_type": "display_data",
          "data": {
            "image/png": "[encoded data removed]",
            "text/plain": [
              "<Figure size 432x288 with 1 Axes>"
            ]
          },
          "metadata": {
            "tags": [],
            "needs_background": "light"
          }
        }
      ]
    },
    {
      "cell_type": "code",
      "metadata": {
        "id": "JYuqZyBJY_6F",
        "outputId": "7596acfa-75d2-40fa-978c-1829a2d4d4ea",
        "colab": {
          "base_uri": "https://localhost:8080/",
          "height": 391
        }
      },
      "source": [
        "df.corr()['benign_0__mal_1'][:-1].sort_values().plot(kind='bar')"
      ],
      "execution_count": 9,
      "outputs": [
        {
          "output_type": "execute_result",
          "data": {
            "text/plain": [
              "<matplotlib.axes._subplots.AxesSubplot at 0x7ff23e5a0128>"
            ]
          },
          "metadata": {
            "tags": []
          },
          "execution_count": 9
        },
        {
          "output_type": "display_data",
          "data": {
            "image/png": "[encoded data removed]",
            "text/plain": [
              "<Figure size 432x288 with 1 Axes>"
            ]
          },
          "metadata": {
            "tags": [],
            "needs_background": "light"
          }
        }
      ]
    },
    {
      "cell_type": "code",
      "metadata": {
        "id": "Ajxxm0QUZM_-",
        "outputId": "46e877e2-6602-4c54-decc-6b41db5c2352",
        "colab": {
          "base_uri": "https://localhost:8080/",
          "height": 425
        }
      },
      "source": [
        "plt.figure(figsize=(12, 6))\n",
        "sns.heatmap(df.corr())"
      ],
      "execution_count": 11,
      "outputs": [
        {
          "output_type": "execute_result",
          "data": {
            "text/plain": [
              "<matplotlib.axes._subplots.AxesSubplot at 0x7ff23bc128d0>"
            ]
          },
          "metadata": {
            "tags": []
          },
          "execution_count": 11
        },
        {
          "output_type": "display_data",
          "data": {
            "image/png": "[encoded data removed]",
            "text/plain": [
              "<Figure size 864x432 with 2 Axes>"
            ]
          },
          "metadata": {
            "tags": [],
            "needs_background": "light"
          }
        }
      ]
    },
    {
      "cell_type": "code",
      "metadata": {
        "id": "AjyFJKZNZa32"
      },
      "source": [
        "X = df.drop('benign_0__mal_1',axis=1).values\n",
        "y = df['benign_0__mal_1'].values"
      ],
      "execution_count": 13,
      "outputs": []
    },
    {
      "cell_type": "code",
      "metadata": {
        "id": "SX6eZpxwZqWo"
      },
      "source": [
        "from sklearn.model_selection import train_test_split"
      ],
      "execution_count": 14,
      "outputs": []
    },
    {
      "cell_type": "code",
      "metadata": {
        "id": "wisHstlcaBk5"
      },
      "source": [
        "X_train, X_test, y_train, y_test = train_test_split(X, y, test_size=0.25, random_state=101)"
      ],
      "execution_count": 16,
      "outputs": []
    },
    {
      "cell_type": "code",
      "metadata": {
        "id": "7ivrMpw4aGsh"
      },
      "source": [
        "from sklearn.preprocessing import MinMaxScaler"
      ],
      "execution_count": 17,
      "outputs": []
    },
    {
      "cell_type": "code",
      "metadata": {
        "id": "7gLKSPw8aOa-"
      },
      "source": [
        "scaler = MinMaxScaler()"
      ],
      "execution_count": 18,
      "outputs": []
    },
    {
      "cell_type": "code",
      "metadata": {
        "id": "k7huYlCzaQiq"
      },
      "source": [
        "X_train = scaler.fit_transform(X_train)\n",
        "X_test = scaler.transform(X_test)"
      ],
      "execution_count": 19,
      "outputs": []
    },
    {
      "cell_type": "code",
      "metadata": {
        "id": "TCcxuoOLaad5"
      },
      "source": [
        "from tensorflow.keras.models import Sequential"
      ],
      "execution_count": 20,
      "outputs": []
    },
    {
      "cell_type": "code",
      "metadata": {
        "id": "ksZXG8c7a5d5"
      },
      "source": [
        "from tensorflow.keras.layers import Dense, Dropout"
      ],
      "execution_count": 21,
      "outputs": []
    },
    {
      "cell_type": "code",
      "metadata": {
        "id": "dKW8FumPa9hR",
        "outputId": "ba9cb313-261b-42c6-b9c9-701f8c2b86e6",
        "colab": {
          "base_uri": "https://localhost:8080/",
          "height": 34
        }
      },
      "source": [
        "X_train.shape"
      ],
      "execution_count": 22,
      "outputs": [
        {
          "output_type": "execute_result",
          "data": {
            "text/plain": [
              "(426, 30)"
            ]
          },
          "metadata": {
            "tags": []
          },
          "execution_count": 22
        }
      ]
    },
    {
      "cell_type": "code",
      "metadata": {
        "id": "FNgHTSUPa_KC"
      },
      "source": [
        "model = Sequential()\n",
        "\n",
        "model.add(Dense(30, activation='relu'))\n",
        "model.add(Dense(15, activation='relu'))\n",
        "\n",
        "model.add(Dense(1, activation='sigmoid'))\n",
        "model.compile(loss='binary_crossentropy', optimizer='adam')"
      ],
      "execution_count": 25,
      "outputs": []
    },
    {
      "cell_type": "code",
      "metadata": {
        "id": "tenlTiNmbAy9"
      },
      "source": [
        "model.fit(x=X_train, y=y_train, epochs=600, validation_data=(X_test, y_test))"
      ],
      "execution_count": null,
      "outputs": []
    },
    {
      "cell_type": "code",
      "metadata": {
        "id": "LyMcUC4dbVih"
      },
      "source": [
        "losses = pd.DataFrame(model.history.history)"
      ],
      "execution_count": 27,
      "outputs": []
    },
    {
      "cell_type": "code",
      "metadata": {
        "id": "lHQAE4arbtPC",
        "outputId": "375ebdee-396a-44cc-c607-1c5088a5ce5a",
        "colab": {
          "base_uri": "https://localhost:8080/",
          "height": 282
        }
      },
      "source": [
        "losses.plot()"
      ],
      "execution_count": 29,
      "outputs": [
        {
          "output_type": "execute_result",
          "data": {
            "text/plain": [
              "<matplotlib.axes._subplots.AxesSubplot at 0x7ff2004da860>"
            ]
          },
          "metadata": {
            "tags": []
          },
          "execution_count": 29
        },
        {
          "output_type": "display_data",
          "data": {
            "image/png": "[encoded data removed]",
            "text/plain": [
              "<Figure size 432x288 with 1 Axes>"
            ]
          },
          "metadata": {
            "tags": [],
            "needs_background": "light"
          }
        }
      ]
    },
    {
      "cell_type": "code",
      "metadata": {
        "id": "5kbx-vBQbt7V"
      },
      "source": [
        "model = Sequential()\n",
        "\n",
        "model.add(Dense(30, activation='relu'))\n",
        "model.add(Dense(15, activation='relu'))\n",
        "\n",
        "model.add(Dense(1, activation='sigmoid'))\n",
        "model.compile(loss='binary_crossentropy', optimizer='adam')"
      ],
      "execution_count": 34,
      "outputs": []
    },
    {
      "cell_type": "code",
      "metadata": {
        "id": "8KUgLsKOcJIa"
      },
      "source": [
        "from tensorflow.keras.callbacks import EarlyStopping"
      ],
      "execution_count": 35,
      "outputs": []
    },
    {
      "cell_type": "code",
      "metadata": {
        "id": "aI8WJ7QxcMvz"
      },
      "source": [
        "early_stop = EarlyStopping(monitor='val_loss', mode='min', verbose=1, patience=25)"
      ],
      "execution_count": 36,
      "outputs": []
    },
    {
      "cell_type": "code",
      "metadata": {
        "id": "G4eSwHF4dEv5"
      },
      "source": [
        "model.fit(x=X_train, y=y_train, epochs=600, validation_data=(X_test, y_test), callbacks=[early_stop])"
      ],
      "execution_count": null,
      "outputs": []
    },
    {
      "cell_type": "code",
      "metadata": {
        "id": "EM1N13LHdYRK"
      },
      "source": [
        "model_loss = pd.DataFrame(model.history.history)"
      ],
      "execution_count": 38,
      "outputs": []
    },
    {
      "cell_type": "code",
      "metadata": {
        "id": "MV6tE9VNdlrl",
        "outputId": "881353e4-7689-4d74-a330-86cae3eeac4e",
        "colab": {
          "base_uri": "https://localhost:8080/",
          "height": 282
        }
      },
      "source": [
        "model_loss.plot()"
      ],
      "execution_count": 39,
      "outputs": [
        {
          "output_type": "execute_result",
          "data": {
            "text/plain": [
              "<matplotlib.axes._subplots.AxesSubplot at 0x7ff2002a9ef0>"
            ]
          },
          "metadata": {
            "tags": []
          },
          "execution_count": 39
        },
        {
          "output_type": "display_data",
          "data": {
            "image/png": "[encoded data removed]",
            "text/plain": [
              "<Figure size 432x288 with 1 Axes>"
            ]
          },
          "metadata": {
            "tags": [],
            "needs_background": "light"
          }
        }
      ]
    },
    {
      "cell_type": "code",
      "metadata": {
        "id": "RkGOwVx0dn9V"
      },
      "source": [
        "from tensorflow.keras.layers import Dropout"
      ],
      "execution_count": 40,
      "outputs": []
    },
    {
      "cell_type": "code",
      "metadata": {
        "id": "xS9wY3XseHhq"
      },
      "source": [
        "model = Sequential()\n",
        "\n",
        "model.add(Dense(30, activation='relu'))\n",
        "model.add(Dropout(0.5))\n",
        "model.add(Dense(15, activation='relu'))\n",
        "model.add(Dropout(0.5))\n",
        "\n",
        "model.add(Dense(1, activation='sigmoid'))\n",
        "model.compile(loss='binary_crossentropy', optimizer='adam')"
      ],
      "execution_count": 41,
      "outputs": []
    },
    {
      "cell_type": "code",
      "metadata": {
        "id": "SWSYRtXGeaja",
        "outputId": "79a27ffd-4489-4ff8-9047-93963fab60e1",
        "colab": {
          "base_uri": "https://localhost:8080/",
          "height": 1000
        }
      },
      "source": [
        "model.fit(x=X_train, y=y_train, epochs=600, validation_data=(X_test, y_test), callbacks=[early_stop])"
      ],
      "execution_count": 42,
      "outputs": [
        {
          "output_type": "stream",
          "text": [
            "Epoch 1/600\n",
            "14/14 [==============================] - 0s 9ms/step - loss: 0.7102 - val_loss: 0.6876\n",
            "Epoch 2/600\n",
            "14/14 [==============================] - 0s 3ms/step - loss: 0.6836 - val_loss: 0.6706\n",
            "Epoch 3/600\n",
            "14/14 [==============================] - 0s 2ms/step - loss: 0.6763 - val_loss: 0.6576\n",
            "Epoch 4/600\n",
            "14/14 [==============================] - 0s 3ms/step - loss: 0.6557 - val_loss: 0.6448\n",
            "Epoch 5/600\n",
            "14/14 [==============================] - 0s 2ms/step - loss: 0.6480 - val_loss: 0.6290\n",
            "Epoch 6/600\n",
            "14/14 [==============================] - 0s 2ms/step - loss: 0.6381 - val_loss: 0.6095\n",
            "Epoch 7/600\n",
            "14/14 [==============================] - 0s 3ms/step - loss: 0.6176 - val_loss: 0.5910\n",
            "Epoch 8/600\n",
            "14/14 [==============================] - 0s 2ms/step - loss: 0.6164 - val_loss: 0.5640\n",
            "Epoch 9/600\n",
            "14/14 [==============================] - 0s 2ms/step - loss: 0.5841 - val_loss: 0.5351\n",
            "Epoch 10/600\n",
            "14/14 [==============================] - 0s 3ms/step - loss: 0.5643 - val_loss: 0.5007\n",
            "Epoch 11/600\n",
            "14/14 [==============================] - 0s 3ms/step - loss: 0.5381 - val_loss: 0.4686\n",
            "Epoch 12/600\n",
            "14/14 [==============================] - 0s 2ms/step - loss: 0.5053 - val_loss: 0.4360\n",
            "Epoch 13/600\n",
            "14/14 [==============================] - 0s 2ms/step - loss: 0.4707 - val_loss: 0.4059\n",
            "Epoch 14/600\n",
            "14/14 [==============================] - 0s 2ms/step - loss: 0.4519 - val_loss: 0.3794\n",
            "Epoch 15/600\n",
            "14/14 [==============================] - 0s 3ms/step - loss: 0.4396 - val_loss: 0.3544\n",
            "Epoch 16/600\n",
            "14/14 [==============================] - 0s 2ms/step - loss: 0.4047 - val_loss: 0.3301\n",
            "Epoch 17/600\n",
            "14/14 [==============================] - 0s 3ms/step - loss: 0.4131 - val_loss: 0.3034\n",
            "Epoch 18/600\n",
            "14/14 [==============================] - 0s 2ms/step - loss: 0.3784 - val_loss: 0.2921\n",
            "Epoch 19/600\n",
            "14/14 [==============================] - 0s 3ms/step - loss: 0.3695 - val_loss: 0.2713\n",
            "Epoch 20/600\n",
            "14/14 [==============================] - 0s 2ms/step - loss: 0.3760 - val_loss: 0.2652\n",
            "Epoch 21/600\n",
            "14/14 [==============================] - 0s 2ms/step - loss: 0.3373 - val_loss: 0.2538\n",
            "Epoch 22/600\n",
            "14/14 [==============================] - 0s 2ms/step - loss: 0.3413 - val_loss: 0.2336\n",
            "Epoch 23/600\n",
            "14/14 [==============================] - 0s 2ms/step - loss: 0.3301 - val_loss: 0.2215\n",
            "Epoch 24/600\n",
            "14/14 [==============================] - 0s 3ms/step - loss: 0.3127 - val_loss: 0.2170\n",
            "Epoch 25/600\n",
            "14/14 [==============================] - 0s 3ms/step - loss: 0.2984 - val_loss: 0.2073\n",
            "Epoch 26/600\n",
            "14/14 [==============================] - 0s 3ms/step - loss: 0.3044 - val_loss: 0.1945\n",
            "Epoch 27/600\n",
            "14/14 [==============================] - 0s 2ms/step - loss: 0.2909 - val_loss: 0.1954\n",
            "Epoch 28/600\n",
            "14/14 [==============================] - 0s 3ms/step - loss: 0.2775 - val_loss: 0.1848\n",
            "Epoch 29/600\n",
            "14/14 [==============================] - 0s 3ms/step - loss: 0.2626 - val_loss: 0.1810\n",
            "Epoch 30/600\n",
            "14/14 [==============================] - 0s 3ms/step - loss: 0.2591 - val_loss: 0.1728\n",
            "Epoch 31/600\n",
            "14/14 [==============================] - 0s 3ms/step - loss: 0.2479 - val_loss: 0.1605\n",
            "Epoch 32/600\n",
            "14/14 [==============================] - 0s 2ms/step - loss: 0.2518 - val_loss: 0.1681\n",
            "Epoch 33/600\n",
            "14/14 [==============================] - 0s 2ms/step - loss: 0.2638 - val_loss: 0.1597\n",
            "Epoch 34/600\n",
            "14/14 [==============================] - 0s 3ms/step - loss: 0.2397 - val_loss: 0.1516\n",
            "Epoch 35/600\n",
            "14/14 [==============================] - 0s 3ms/step - loss: 0.2423 - val_loss: 0.1482\n",
            "Epoch 36/600\n",
            "14/14 [==============================] - 0s 2ms/step - loss: 0.2308 - val_loss: 0.1437\n",
            "Epoch 37/600\n",
            "14/14 [==============================] - 0s 2ms/step - loss: 0.2001 - val_loss: 0.1449\n",
            "Epoch 38/600\n",
            "14/14 [==============================] - 0s 2ms/step - loss: 0.2232 - val_loss: 0.1344\n",
            "Epoch 39/600\n",
            "14/14 [==============================] - 0s 2ms/step - loss: 0.2284 - val_loss: 0.1377\n",
            "Epoch 40/600\n",
            "14/14 [==============================] - 0s 2ms/step - loss: 0.2318 - val_loss: 0.1297\n",
            "Epoch 41/600\n",
            "14/14 [==============================] - 0s 3ms/step - loss: 0.2180 - val_loss: 0.1339\n",
            "Epoch 42/600\n",
            "14/14 [==============================] - 0s 3ms/step - loss: 0.2192 - val_loss: 0.1289\n",
            "Epoch 43/600\n",
            "14/14 [==============================] - 0s 2ms/step - loss: 0.1896 - val_loss: 0.1255\n",
            "Epoch 44/600\n",
            "14/14 [==============================] - 0s 2ms/step - loss: 0.1943 - val_loss: 0.1230\n",
            "Epoch 45/600\n",
            "14/14 [==============================] - 0s 3ms/step - loss: 0.1913 - val_loss: 0.1218\n",
            "Epoch 46/600\n",
            "14/14 [==============================] - 0s 3ms/step - loss: 0.1921 - val_loss: 0.1247\n",
            "Epoch 47/600\n",
            "14/14 [==============================] - 0s 2ms/step - loss: 0.1862 - val_loss: 0.1255\n",
            "Epoch 48/600\n",
            "14/14 [==============================] - 0s 3ms/step - loss: 0.1882 - val_loss: 0.1202\n",
            "Epoch 49/600\n",
            "14/14 [==============================] - 0s 3ms/step - loss: 0.1827 - val_loss: 0.1146\n",
            "Epoch 50/600\n",
            "14/14 [==============================] - 0s 3ms/step - loss: 0.1862 - val_loss: 0.1126\n",
            "Epoch 51/600\n",
            "14/14 [==============================] - 0s 2ms/step - loss: 0.1912 - val_loss: 0.1123\n",
            "Epoch 52/600\n",
            "14/14 [==============================] - 0s 3ms/step - loss: 0.1767 - val_loss: 0.1110\n",
            "Epoch 53/600\n",
            "14/14 [==============================] - 0s 2ms/step - loss: 0.1792 - val_loss: 0.1060\n",
            "Epoch 54/600\n",
            "14/14 [==============================] - 0s 2ms/step - loss: 0.1724 - val_loss: 0.1109\n",
            "Epoch 55/600\n",
            "14/14 [==============================] - 0s 3ms/step - loss: 0.1621 - val_loss: 0.1072\n",
            "Epoch 56/600\n",
            "14/14 [==============================] - 0s 3ms/step - loss: 0.1504 - val_loss: 0.1046\n",
            "Epoch 57/600\n",
            "14/14 [==============================] - 0s 3ms/step - loss: 0.1757 - val_loss: 0.1053\n",
            "Epoch 58/600\n",
            "14/14 [==============================] - 0s 3ms/step - loss: 0.1795 - val_loss: 0.1034\n",
            "Epoch 59/600\n",
            "14/14 [==============================] - 0s 2ms/step - loss: 0.1569 - val_loss: 0.0986\n",
            "Epoch 60/600\n",
            "14/14 [==============================] - 0s 2ms/step - loss: 0.1821 - val_loss: 0.1014\n",
            "Epoch 61/600\n",
            "14/14 [==============================] - 0s 2ms/step - loss: 0.1571 - val_loss: 0.0991\n",
            "Epoch 62/600\n",
            "14/14 [==============================] - 0s 2ms/step - loss: 0.1539 - val_loss: 0.0965\n",
            "Epoch 63/600\n",
            "14/14 [==============================] - 0s 2ms/step - loss: 0.1452 - val_loss: 0.0999\n",
            "Epoch 64/600\n",
            "14/14 [==============================] - 0s 3ms/step - loss: 0.1700 - val_loss: 0.1036\n",
            "Epoch 65/600\n",
            "14/14 [==============================] - 0s 3ms/step - loss: 0.1438 - val_loss: 0.1054\n",
            "Epoch 66/600\n",
            "14/14 [==============================] - 0s 3ms/step - loss: 0.1676 - val_loss: 0.1024\n",
            "Epoch 67/600\n",
            "14/14 [==============================] - 0s 3ms/step - loss: 0.1545 - val_loss: 0.0957\n",
            "Epoch 68/600\n",
            "14/14 [==============================] - 0s 3ms/step - loss: 0.1369 - val_loss: 0.1073\n",
            "Epoch 69/600\n",
            "14/14 [==============================] - 0s 2ms/step - loss: 0.1277 - val_loss: 0.0967\n",
            "Epoch 70/600\n",
            "14/14 [==============================] - 0s 3ms/step - loss: 0.1495 - val_loss: 0.0977\n",
            "Epoch 71/600\n",
            "14/14 [==============================] - 0s 2ms/step - loss: 0.1528 - val_loss: 0.0992\n",
            "Epoch 72/600\n",
            "14/14 [==============================] - 0s 2ms/step - loss: 0.1523 - val_loss: 0.0967\n",
            "Epoch 73/600\n",
            "14/14 [==============================] - 0s 3ms/step - loss: 0.1301 - val_loss: 0.0974\n",
            "Epoch 74/600\n",
            "14/14 [==============================] - 0s 3ms/step - loss: 0.1428 - val_loss: 0.0924\n",
            "Epoch 75/600\n",
            "14/14 [==============================] - 0s 3ms/step - loss: 0.1453 - val_loss: 0.1038\n",
            "Epoch 76/600\n",
            "14/14 [==============================] - 0s 2ms/step - loss: 0.1369 - val_loss: 0.1107\n",
            "Epoch 77/600\n",
            "14/14 [==============================] - 0s 3ms/step - loss: 0.1334 - val_loss: 0.0878\n",
            "Epoch 78/600\n",
            "14/14 [==============================] - 0s 3ms/step - loss: 0.1440 - val_loss: 0.0892\n",
            "Epoch 79/600\n",
            "14/14 [==============================] - 0s 2ms/step - loss: 0.1396 - val_loss: 0.0876\n",
            "Epoch 80/600\n",
            "14/14 [==============================] - 0s 3ms/step - loss: 0.1475 - val_loss: 0.0934\n",
            "Epoch 81/600\n",
            "14/14 [==============================] - 0s 2ms/step - loss: 0.1447 - val_loss: 0.0991\n",
            "Epoch 82/600\n",
            "14/14 [==============================] - 0s 3ms/step - loss: 0.1265 - val_loss: 0.0895\n",
            "Epoch 83/600\n",
            "14/14 [==============================] - 0s 2ms/step - loss: 0.1153 - val_loss: 0.0895\n",
            "Epoch 84/600\n",
            "14/14 [==============================] - 0s 2ms/step - loss: 0.1154 - val_loss: 0.0971\n",
            "Epoch 85/600\n",
            "14/14 [==============================] - 0s 2ms/step - loss: 0.1130 - val_loss: 0.1027\n",
            "Epoch 86/600\n",
            "14/14 [==============================] - 0s 2ms/step - loss: 0.1286 - val_loss: 0.1011\n",
            "Epoch 87/600\n",
            "14/14 [==============================] - 0s 2ms/step - loss: 0.1235 - val_loss: 0.0870\n",
            "Epoch 88/600\n",
            "14/14 [==============================] - 0s 3ms/step - loss: 0.1154 - val_loss: 0.1005\n",
            "Epoch 89/600\n",
            "14/14 [==============================] - 0s 3ms/step - loss: 0.1143 - val_loss: 0.0948\n",
            "Epoch 90/600\n",
            "14/14 [==============================] - 0s 2ms/step - loss: 0.1246 - val_loss: 0.1032\n",
            "Epoch 91/600\n",
            "14/14 [==============================] - 0s 2ms/step - loss: 0.1220 - val_loss: 0.0875\n",
            "Epoch 92/600\n",
            "14/14 [==============================] - 0s 3ms/step - loss: 0.1161 - val_loss: 0.0943\n",
            "Epoch 93/600\n",
            "14/14 [==============================] - 0s 3ms/step - loss: 0.0929 - val_loss: 0.0905\n",
            "Epoch 94/600\n",
            "14/14 [==============================] - 0s 3ms/step - loss: 0.1302 - val_loss: 0.0864\n",
            "Epoch 95/600\n",
            "14/14 [==============================] - 0s 3ms/step - loss: 0.1078 - val_loss: 0.1045\n",
            "Epoch 96/600\n",
            "14/14 [==============================] - 0s 3ms/step - loss: 0.1207 - val_loss: 0.0895\n",
            "Epoch 97/600\n",
            "14/14 [==============================] - 0s 3ms/step - loss: 0.0984 - val_loss: 0.0883\n",
            "Epoch 98/600\n",
            "14/14 [==============================] - 0s 3ms/step - loss: 0.1242 - val_loss: 0.0871\n",
            "Epoch 99/600\n",
            "14/14 [==============================] - 0s 3ms/step - loss: 0.1020 - val_loss: 0.0986\n",
            "Epoch 100/600\n",
            "14/14 [==============================] - 0s 3ms/step - loss: 0.1120 - val_loss: 0.0935\n",
            "Epoch 101/600\n",
            "14/14 [==============================] - 0s 3ms/step - loss: 0.1060 - val_loss: 0.0919\n",
            "Epoch 102/600\n",
            "14/14 [==============================] - 0s 3ms/step - loss: 0.1316 - val_loss: 0.0814\n",
            "Epoch 103/600\n",
            "14/14 [==============================] - 0s 3ms/step - loss: 0.0998 - val_loss: 0.0922\n",
            "Epoch 104/600\n",
            "14/14 [==============================] - 0s 2ms/step - loss: 0.1004 - val_loss: 0.0871\n",
            "Epoch 105/600\n",
            "14/14 [==============================] - 0s 3ms/step - loss: 0.0914 - val_loss: 0.0895\n",
            "Epoch 106/600\n",
            "14/14 [==============================] - 0s 2ms/step - loss: 0.1039 - val_loss: 0.1081\n",
            "Epoch 107/600\n",
            "14/14 [==============================] - 0s 2ms/step - loss: 0.1293 - val_loss: 0.0857\n",
            "Epoch 108/600\n",
            "14/14 [==============================] - 0s 2ms/step - loss: 0.1066 - val_loss: 0.0873\n",
            "Epoch 109/600\n",
            "14/14 [==============================] - 0s 3ms/step - loss: 0.0923 - val_loss: 0.0887\n",
            "Epoch 110/600\n",
            "14/14 [==============================] - 0s 2ms/step - loss: 0.0735 - val_loss: 0.0903\n",
            "Epoch 111/600\n",
            "14/14 [==============================] - 0s 3ms/step - loss: 0.1081 - val_loss: 0.0885\n",
            "Epoch 112/600\n",
            "14/14 [==============================] - 0s 3ms/step - loss: 0.1060 - val_loss: 0.0989\n",
            "Epoch 113/600\n",
            "14/14 [==============================] - 0s 3ms/step - loss: 0.1122 - val_loss: 0.0956\n",
            "Epoch 114/600\n",
            "14/14 [==============================] - 0s 3ms/step - loss: 0.1188 - val_loss: 0.0858\n",
            "Epoch 115/600\n",
            "14/14 [==============================] - 0s 3ms/step - loss: 0.1139 - val_loss: 0.1022\n",
            "Epoch 116/600\n",
            "14/14 [==============================] - 0s 3ms/step - loss: 0.0994 - val_loss: 0.1005\n",
            "Epoch 117/600\n",
            "14/14 [==============================] - 0s 3ms/step - loss: 0.1062 - val_loss: 0.0879\n",
            "Epoch 118/600\n",
            "14/14 [==============================] - 0s 3ms/step - loss: 0.0866 - val_loss: 0.0995\n",
            "Epoch 119/600\n",
            "14/14 [==============================] - 0s 2ms/step - loss: 0.0920 - val_loss: 0.0961\n",
            "Epoch 120/600\n",
            "14/14 [==============================] - 0s 2ms/step - loss: 0.1085 - val_loss: 0.0938\n",
            "Epoch 121/600\n",
            "14/14 [==============================] - 0s 2ms/step - loss: 0.1221 - val_loss: 0.0828\n",
            "Epoch 122/600\n",
            "14/14 [==============================] - 0s 3ms/step - loss: 0.1051 - val_loss: 0.0920\n",
            "Epoch 123/600\n",
            "14/14 [==============================] - 0s 3ms/step - loss: 0.0863 - val_loss: 0.1011\n",
            "Epoch 124/600\n",
            "14/14 [==============================] - 0s 3ms/step - loss: 0.1180 - val_loss: 0.0955\n",
            "Epoch 125/600\n",
            "14/14 [==============================] - 0s 3ms/step - loss: 0.0889 - val_loss: 0.1024\n",
            "Epoch 126/600\n",
            "14/14 [==============================] - 0s 2ms/step - loss: 0.1137 - val_loss: 0.0885\n",
            "Epoch 127/600\n",
            "14/14 [==============================] - 0s 2ms/step - loss: 0.1212 - val_loss: 0.0997\n",
            "Epoch 00127: early stopping\n"
          ],
          "name": "stdout"
        },
        {
          "output_type": "execute_result",
          "data": {
            "text/plain": [
              "<tensorflow.python.keras.callbacks.History at 0x7ff1ff23a5f8>"
            ]
          },
          "metadata": {
            "tags": []
          },
          "execution_count": 42
        }
      ]
    },
    {
      "cell_type": "code",
      "metadata": {
        "id": "y9kzH2ymeeuk"
      },
      "source": [
        "model_loss = pd.DataFrame(model.history.history)"
      ],
      "execution_count": 43,
      "outputs": []
    },
    {
      "cell_type": "code",
      "metadata": {
        "id": "lmZSJ9BSenBf",
        "outputId": "f9ee91c0-f2cc-4116-f3e6-b61d613b5952",
        "colab": {
          "base_uri": "https://localhost:8080/",
          "height": 282
        }
      },
      "source": [
        "model_loss.plot()"
      ],
      "execution_count": 44,
      "outputs": [
        {
          "output_type": "execute_result",
          "data": {
            "text/plain": [
              "<matplotlib.axes._subplots.AxesSubplot at 0x7ff1ff0a6978>"
            ]
          },
          "metadata": {
            "tags": []
          },
          "execution_count": 44
        },
        {
          "output_type": "display_data",
          "data": {
            "image/png": "[encoded data removed]",
            "text/plain": [
              "<Figure size 432x288 with 1 Axes>"
            ]
          },
          "metadata": {
            "tags": [],
            "needs_background": "light"
          }
        }
      ]
    },
    {
      "cell_type": "code",
      "metadata": {
        "id": "T7w6LxcCeoQT"
      },
      "source": [
        "predictions = model.predict_classes(X_test)"
      ],
      "execution_count": 49,
      "outputs": []
    },
    {
      "cell_type": "code",
      "metadata": {
        "id": "BVVYuAYOe9uF"
      },
      "source": [
        "from sklearn.metrics import classification_report, confusion_matrix"
      ],
      "execution_count": 50,
      "outputs": []
    },
    {
      "cell_type": "code",
      "metadata": {
        "id": "RzkyIM3KkVq4",
        "outputId": "9111e5ae-9ad3-4eed-e641-e888bafde5b0",
        "colab": {
          "base_uri": "https://localhost:8080/",
          "height": 170
        }
      },
      "source": [
        "print(classification_report(y_test, predictions))"
      ],
      "execution_count": 51,
      "outputs": [
        {
          "output_type": "stream",
          "text": [
            "              precision    recall  f1-score   support\n",
            "\n",
            "           0       0.95      0.98      0.96        55\n",
            "           1       0.99      0.97      0.98        88\n",
            "\n",
            "    accuracy                           0.97       143\n",
            "   macro avg       0.97      0.97      0.97       143\n",
            "weighted avg       0.97      0.97      0.97       143\n",
            "\n"
          ],
          "name": "stdout"
        }
      ]
    },
    {
      "cell_type": "code",
      "metadata": {
        "id": "CbzONwN6kZw4",
        "outputId": "3e453a20-d016-44f0-a18b-ea3265a9dc33",
        "colab": {
          "base_uri": "https://localhost:8080/",
          "height": 51
        }
      },
      "source": [
        "print(confusion_matrix(y_test, predictions))"
      ],
      "execution_count": 52,
      "outputs": [
        {
          "output_type": "stream",
          "text": [
            "[[54  1]\n",
            " [ 3 85]]\n"
          ],
          "name": "stdout"
        }
      ]
    },
    {
      "cell_type": "code",
      "metadata": {
        "id": "ulyCe-j0kiwh"
      },
      "source": [
        ""
      ],
      "execution_count": null,
      "outputs": []
    }
  ]
}